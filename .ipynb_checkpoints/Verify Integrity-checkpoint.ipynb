{
 "cells": [
  {
   "cell_type": "code",
   "execution_count": 28,
   "metadata": {},
   "outputs": [],
   "source": [
    "import pandas as pd\n",
    "import numpy as np"
   ]
  },
  {
   "cell_type": "code",
   "execution_count": 80,
   "metadata": {},
   "outputs": [],
   "source": [
    "df = pd.read_csv('final.csv')\n",
    "\n",
    "#remove 3 zeros and convert to DateTimeIndex to do more - possibly"
   ]
  },
  {
   "cell_type": "code",
   "execution_count": 81,
   "metadata": {},
   "outputs": [
    {
     "data": {
      "text/plain": [
       "-3600000"
      ]
     },
     "execution_count": 81,
     "metadata": {},
     "output_type": "execute_result"
    }
   ],
   "source": [
    "df['Time'][0] - df['Time'][1]"
   ]
  },
  {
   "cell_type": "code",
   "execution_count": 82,
   "metadata": {},
   "outputs": [
    {
     "data": {
      "text/plain": [
       "101"
      ]
     },
     "execution_count": 82,
     "metadata": {},
     "output_type": "execute_result"
    }
   ],
   "source": [
    "sum(df['Time'] - df.shift(1)['Time'] != 3600000.0) #for these fill with past value. possible because there are some value not avilable straight"
   ]
  },
  {
   "cell_type": "code",
   "execution_count": 83,
   "metadata": {
    "scrolled": true
   },
   "outputs": [],
   "source": [
    "dates = pd.DataFrame([x for x in range(df['Time'][0], int(df.iloc[-1]['Time']), 3600000)])"
   ]
  },
  {
   "cell_type": "code",
   "execution_count": 84,
   "metadata": {},
   "outputs": [],
   "source": [
    "dates.columns = ['Time']"
   ]
  },
  {
   "cell_type": "code",
   "execution_count": 86,
   "metadata": {},
   "outputs": [
    {
     "data": {
      "text/plain": [
       "(43251, 6)"
      ]
     },
     "execution_count": 86,
     "metadata": {},
     "output_type": "execute_result"
    }
   ],
   "source": [
    "pd.concat([df, dates]).sort_values('Time').drop_duplicates('Time').shape"
   ]
  },
  {
   "cell_type": "code",
   "execution_count": 85,
   "metadata": {},
   "outputs": [
    {
     "data": {
      "text/plain": [
       "316"
      ]
     },
     "execution_count": 85,
     "metadata": {},
     "output_type": "execute_result"
    }
   ],
   "source": [
    "dates.shape[0] - df.shape[0]"
   ]
  },
  {
   "cell_type": "code",
   "execution_count": 87,
   "metadata": {},
   "outputs": [
    {
     "data": {
      "text/plain": [
       "0        1364774400000\n",
       "1        1364778000000\n",
       "2        1364781600000\n",
       "3        1364785200000\n",
       "4        1364788800000\n",
       "5        1364792400000\n",
       "6        1364796000000\n",
       "7        1364803200000\n",
       "8        1364806800000\n",
       "9        1364810400000\n",
       "10       1364814000000\n",
       "11       1364817600000\n",
       "12       1364821200000\n",
       "13       1364824800000\n",
       "14       1364828400000\n",
       "15       1364832000000\n",
       "16       1364835600000\n",
       "17       1364839200000\n",
       "18       1364842800000\n",
       "19       1364850000000\n",
       "20       1364853600000\n",
       "21       1364857200000\n",
       "22       1364860800000\n",
       "23       1364864400000\n",
       "24       1364868000000\n",
       "25       1364871600000\n",
       "26       1364875200000\n",
       "27       1364878800000\n",
       "28       1364882400000\n",
       "29       1364886000000\n",
       "             ...      \n",
       "42904    1520370000000\n",
       "42905    1520373600000\n",
       "42906    1520377200000\n",
       "42907    1520380800000\n",
       "42908    1520384400000\n",
       "42909    1520388000000\n",
       "42910    1520391600000\n",
       "42911    1520395200000\n",
       "42912    1520398800000\n",
       "42913    1520402400000\n",
       "42914    1520406000000\n",
       "42915    1520409600000\n",
       "42916    1520413200000\n",
       "42917    1520416800000\n",
       "42918    1520420400000\n",
       "42919    1520424000000\n",
       "42920    1520427600000\n",
       "42921    1520431200000\n",
       "42922    1520434800000\n",
       "42923    1520438400000\n",
       "42924    1520442000000\n",
       "42925    1520445600000\n",
       "42926    1520449200000\n",
       "42927    1520452800000\n",
       "42928    1520456400000\n",
       "42929    1520460000000\n",
       "42930    1520463600000\n",
       "42931    1520467200000\n",
       "42932    1520470800000\n",
       "42933    1520474400000\n",
       "Name: Time, Length: 42934, dtype: int64"
      ]
     },
     "execution_count": 87,
     "metadata": {},
     "output_type": "execute_result"
    }
   ],
   "source": [
    "df['Time']"
   ]
  },
  {
   "cell_type": "code",
   "execution_count": null,
   "metadata": {},
   "outputs": [],
   "source": []
  }
 ],
 "metadata": {
  "kernelspec": {
   "display_name": "Python 3",
   "language": "python",
   "name": "python3"
  },
  "language_info": {
   "codemirror_mode": {
    "name": "ipython",
    "version": 3
   },
   "file_extension": ".py",
   "mimetype": "text/x-python",
   "name": "python",
   "nbconvert_exporter": "python",
   "pygments_lexer": "ipython3",
   "version": "3.6.1"
  }
 },
 "nbformat": 4,
 "nbformat_minor": 2
}
