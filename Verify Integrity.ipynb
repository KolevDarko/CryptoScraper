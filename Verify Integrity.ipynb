{
 "cells": [
  {
   "cell_type": "code",
   "execution_count": 222,
   "metadata": {},
   "outputs": [],
   "source": [
    "import pandas as pd\n",
    "import numpy as np\n",
    "\n",
    "df = pd.read_csv('final.csv')\n",
    "#df['Time'] = [str(x)[:-3] for x in df['Time']]\n",
    "#pd.to_datetime(df['Time'], unit='s')\n",
    "dates = pd.DataFrame([x for x in range(df['Time'][0], int(df.iloc[-1]['Time']), 3600000)])\n",
    "dates.columns = ['Time']\n",
    "df.set_index('Time', inplace=True)\n",
    "dates.set_index('Time', inplace=True)\n",
    "full_data = pd.concat([df, dates], axis=1).fillna(method='ffill')\n",
    "full_data.index = [str(x)[:-3] for x in full_data.index]\n",
    "full_data.index.name = 'Time'\n",
    "full_data.to_csv('full.csv')"
   ]
  },
  {
   "cell_type": "code",
   "execution_count": 229,
   "metadata": {},
   "outputs": [],
   "source": [
    "df = pd.read_csv('full.csv')\n",
    "assert(sum(df['Time'] - df.shift(1)['Time'] != 3600.0) == 1)"
   ]
  },
  {
   "cell_type": "code",
   "execution_count": null,
   "metadata": {},
   "outputs": [],
   "source": []
  }
 ],
 "metadata": {
  "kernelspec": {
   "display_name": "Python 3",
   "language": "python",
   "name": "python3"
  },
  "language_info": {
   "codemirror_mode": {
    "name": "ipython",
    "version": 3
   },
   "file_extension": ".py",
   "mimetype": "text/x-python",
   "name": "python",
   "nbconvert_exporter": "python",
   "pygments_lexer": "ipython3",
   "version": "3.6.1"
  }
 },
 "nbformat": 4,
 "nbformat_minor": 2
}
